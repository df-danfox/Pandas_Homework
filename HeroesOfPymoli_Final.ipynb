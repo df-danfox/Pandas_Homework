{
 "cells": [
  {
   "cell_type": "markdown",
   "metadata": {},
   "source": [
    "### Heroes Of Pymoli Data Analysis\n",
    "* Of the 1163 active players, the vast majority are male (84%). There also exists, a smaller, but notable proportion of female players (14%).\n",
    "\n",
    "* Our peak age demographic falls between 20-24 (44.8%) with secondary groups falling between 15-19 (18.60%) and 25-29 (13.4%).  \n",
    "-----"
   ]
  },
  {
   "cell_type": "markdown",
   "metadata": {},
   "source": [
    "### Note\n",
    "* Instructions have been included for each segment. You do not have to follow them exactly, but they are included to help you think through the steps."
   ]
  },
  {
   "cell_type": "code",
   "execution_count": 3,
   "metadata": {},
   "outputs": [],
   "source": [
    "# Dependencies and Setup\n",
    "import pandas as pd\n",
    "import numpy as np\n",
    "\n",
    "# File to Load (Remember to Change These)\n",
    "file_to_load = \"Resources/purchase_data.csv\"\n",
    "\n",
    "# Read Purchasing File and store into Pandas data frame\n",
    "pd_df = pd.read_csv(file_to_load)"
   ]
  },
  {
   "cell_type": "code",
   "execution_count": 4,
   "metadata": {},
   "outputs": [],
   "source": [
    "# Validating directory\n",
    "#!ls\n"
   ]
  },
  {
   "cell_type": "code",
   "execution_count": 5,
   "metadata": {},
   "outputs": [
    {
     "data": {
      "text/html": [
       "<div>\n",
       "<style scoped>\n",
       "    .dataframe tbody tr th:only-of-type {\n",
       "        vertical-align: middle;\n",
       "    }\n",
       "\n",
       "    .dataframe tbody tr th {\n",
       "        vertical-align: top;\n",
       "    }\n",
       "\n",
       "    .dataframe thead th {\n",
       "        text-align: right;\n",
       "    }\n",
       "</style>\n",
       "<table border=\"1\" class=\"dataframe\">\n",
       "  <thead>\n",
       "    <tr style=\"text-align: right;\">\n",
       "      <th></th>\n",
       "      <th>Purchase ID</th>\n",
       "      <th>SN</th>\n",
       "      <th>Age</th>\n",
       "      <th>Gender</th>\n",
       "      <th>Item ID</th>\n",
       "      <th>Item Name</th>\n",
       "      <th>Price</th>\n",
       "    </tr>\n",
       "  </thead>\n",
       "  <tbody>\n",
       "    <tr>\n",
       "      <th>0</th>\n",
       "      <td>0</td>\n",
       "      <td>Lisim78</td>\n",
       "      <td>20</td>\n",
       "      <td>Male</td>\n",
       "      <td>108</td>\n",
       "      <td>Extraction, Quickblade Of Trembling Hands</td>\n",
       "      <td>3.53</td>\n",
       "    </tr>\n",
       "    <tr>\n",
       "      <th>1</th>\n",
       "      <td>1</td>\n",
       "      <td>Lisovynya38</td>\n",
       "      <td>40</td>\n",
       "      <td>Male</td>\n",
       "      <td>143</td>\n",
       "      <td>Frenzied Scimitar</td>\n",
       "      <td>1.56</td>\n",
       "    </tr>\n",
       "    <tr>\n",
       "      <th>2</th>\n",
       "      <td>2</td>\n",
       "      <td>Ithergue48</td>\n",
       "      <td>24</td>\n",
       "      <td>Male</td>\n",
       "      <td>92</td>\n",
       "      <td>Final Critic</td>\n",
       "      <td>4.88</td>\n",
       "    </tr>\n",
       "  </tbody>\n",
       "</table>\n",
       "</div>"
      ],
      "text/plain": [
       "   Purchase ID           SN  Age Gender  Item ID  \\\n",
       "0            0      Lisim78   20   Male      108   \n",
       "1            1  Lisovynya38   40   Male      143   \n",
       "2            2   Ithergue48   24   Male       92   \n",
       "\n",
       "                                   Item Name  Price  \n",
       "0  Extraction, Quickblade Of Trembling Hands   3.53  \n",
       "1                          Frenzied Scimitar   1.56  \n",
       "2                               Final Critic   4.88  "
      ]
     },
     "execution_count": 5,
     "metadata": {},
     "output_type": "execute_result"
    }
   ],
   "source": [
    "# Testing data read\n",
    "pd_df.head(3)"
   ]
  },
  {
   "cell_type": "code",
   "execution_count": 6,
   "metadata": {},
   "outputs": [
    {
     "data": {
      "text/html": [
       "<div>\n",
       "<style scoped>\n",
       "    .dataframe tbody tr th:only-of-type {\n",
       "        vertical-align: middle;\n",
       "    }\n",
       "\n",
       "    .dataframe tbody tr th {\n",
       "        vertical-align: top;\n",
       "    }\n",
       "\n",
       "    .dataframe thead th {\n",
       "        text-align: right;\n",
       "    }\n",
       "</style>\n",
       "<table border=\"1\" class=\"dataframe\">\n",
       "  <thead>\n",
       "    <tr style=\"text-align: right;\">\n",
       "      <th></th>\n",
       "      <th>Total Players</th>\n",
       "    </tr>\n",
       "  </thead>\n",
       "  <tbody>\n",
       "    <tr>\n",
       "      <th>0</th>\n",
       "      <td>576</td>\n",
       "    </tr>\n",
       "  </tbody>\n",
       "</table>\n",
       "</div>"
      ],
      "text/plain": [
       "   Total Players\n",
       "0            576"
      ]
     },
     "execution_count": 6,
     "metadata": {},
     "output_type": "execute_result"
    }
   ],
   "source": [
    "# Display the total number of players (204 duplicates /new total should be 576)\n",
    "unique_players = len(pd_df[\"SN\"].value_counts())\n",
    "count = pd.DataFrame({\"Total Players\":[unique_players]})\n",
    "count"
   ]
  },
  {
   "cell_type": "markdown",
   "metadata": {},
   "source": [
    "## Purchasing Analysis (Total)"
   ]
  },
  {
   "cell_type": "markdown",
   "metadata": {},
   "source": [
    "* Run basic calculations to obtain number of unique items, average price, etc.\n",
    "\n",
    "\n",
    "* Create a summary data frame to hold the results\n",
    "\n",
    "\n",
    "* Optional: give the displayed data cleaner formatting\n",
    "\n",
    "\n",
    "* Display the summary data frame\n"
   ]
  },
  {
   "cell_type": "code",
   "execution_count": 7,
   "metadata": {},
   "outputs": [
    {
     "data": {
      "text/html": [
       "<style  type=\"text/css\" >\n",
       "</style>  \n",
       "<table id=\"T_9c3c18ac_301a_11e9_a816_acde48001122\" > \n",
       "<thead>    <tr> \n",
       "        <th class=\"blank level0\" ></th> \n",
       "        <th class=\"col_heading level0 col0\" >Average Price</th> \n",
       "        <th class=\"col_heading level0 col1\" >Number of Purchases</th> \n",
       "        <th class=\"col_heading level0 col2\" >Number of Unique Items</th> \n",
       "        <th class=\"col_heading level0 col3\" >Total Revenue</th> \n",
       "    </tr></thead> \n",
       "<tbody>    <tr> \n",
       "        <th id=\"T_9c3c18ac_301a_11e9_a816_acde48001122level0_row0\" class=\"row_heading level0 row0\" >0</th> \n",
       "        <td id=\"T_9c3c18ac_301a_11e9_a816_acde48001122row0_col0\" class=\"data row0 col0\" >$3.05</td> \n",
       "        <td id=\"T_9c3c18ac_301a_11e9_a816_acde48001122row0_col1\" class=\"data row0 col1\" >780</td> \n",
       "        <td id=\"T_9c3c18ac_301a_11e9_a816_acde48001122row0_col2\" class=\"data row0 col2\" >183</td> \n",
       "        <td id=\"T_9c3c18ac_301a_11e9_a816_acde48001122row0_col3\" class=\"data row0 col3\" >$2,379.77</td> \n",
       "    </tr></tbody> \n",
       "</table> "
      ],
      "text/plain": [
       "<pandas.io.formats.style.Styler at 0x111ce2d68>"
      ]
     },
     "execution_count": 7,
     "metadata": {},
     "output_type": "execute_result"
    }
   ],
   "source": [
    "# Get Number of Unique items\n",
    "unique_items = pd_df[\"Item ID\"].nunique()\n",
    "#unique_items\n",
    "\n",
    "# Get Total Number of Purchases\n",
    "purchases = pd_df[\"Purchase ID\"].count()\n",
    "#purchases\n",
    "\n",
    "# Get Total Revenue\n",
    "revenue = pd_df[\"Price\"].sum()\n",
    "#revenue\n",
    "\n",
    "# Get Average Price\n",
    "price = revenue/purchases\n",
    "#price\n",
    "\n",
    "\n",
    "purchase_analysis = pd.DataFrame([{\"Number of Unique Items\": unique_items, \n",
    "                                   \"Average Price\": price,\n",
    "                                   \"Number of Purchases\": purchases,\n",
    "                                   \"Total Revenue\": revenue}])\n",
    "# Make a pretty table\n",
    "purchase_analysis.style.format({\"Average Price\":\"${:,.2f}\",\n",
    "                                \"Total Revenue\":\"${:,.2f}\"})\n"
   ]
  },
  {
   "cell_type": "markdown",
   "metadata": {},
   "source": [
    "## Gender Demographics"
   ]
  },
  {
   "cell_type": "markdown",
   "metadata": {},
   "source": [
    "* Percentage and Count of Male Players\n",
    "\n",
    "\n",
    "* Percentage and Count of Female Players\n",
    "\n",
    "\n",
    "* Percentage and Count of Other / Non-Disclosed\n",
    "\n",
    "\n"
   ]
  },
  {
   "cell_type": "code",
   "execution_count": 8,
   "metadata": {},
   "outputs": [
    {
     "data": {
      "text/html": [
       "<style  type=\"text/css\" >\n",
       "</style>  \n",
       "<table id=\"T_9c549cf6_301a_11e9_a816_acde48001122\" > \n",
       "<thead>    <tr> \n",
       "        <th class=\"blank level0\" ></th> \n",
       "        <th class=\"col_heading level0 col0\" >Total Count</th> \n",
       "        <th class=\"col_heading level0 col1\" >Percentage of Players</th> \n",
       "    </tr>    <tr> \n",
       "        <th class=\"index_name level0\" >Gender</th> \n",
       "        <th class=\"blank\" ></th> \n",
       "        <th class=\"blank\" ></th> \n",
       "    </tr></thead> \n",
       "<tbody>    <tr> \n",
       "        <th id=\"T_9c549cf6_301a_11e9_a816_acde48001122level0_row0\" class=\"row_heading level0 row0\" >Male</th> \n",
       "        <td id=\"T_9c549cf6_301a_11e9_a816_acde48001122row0_col0\" class=\"data row0 col0\" >484</td> \n",
       "        <td id=\"T_9c549cf6_301a_11e9_a816_acde48001122row0_col1\" class=\"data row0 col1\" >84.03</td> \n",
       "    </tr>    <tr> \n",
       "        <th id=\"T_9c549cf6_301a_11e9_a816_acde48001122level0_row1\" class=\"row_heading level0 row1\" >Female</th> \n",
       "        <td id=\"T_9c549cf6_301a_11e9_a816_acde48001122row1_col0\" class=\"data row1 col0\" >81</td> \n",
       "        <td id=\"T_9c549cf6_301a_11e9_a816_acde48001122row1_col1\" class=\"data row1 col1\" >14.06</td> \n",
       "    </tr>    <tr> \n",
       "        <th id=\"T_9c549cf6_301a_11e9_a816_acde48001122level0_row2\" class=\"row_heading level0 row2\" >Other / Non-Disclosed</th> \n",
       "        <td id=\"T_9c549cf6_301a_11e9_a816_acde48001122row2_col0\" class=\"data row2 col0\" >11</td> \n",
       "        <td id=\"T_9c549cf6_301a_11e9_a816_acde48001122row2_col1\" class=\"data row2 col1\" >1.91</td> \n",
       "    </tr></tbody> \n",
       "</table> "
      ],
      "text/plain": [
       "<pandas.io.formats.style.Styler at 0x112e44400>"
      ]
     },
     "execution_count": 8,
     "metadata": {},
     "output_type": "execute_result"
    }
   ],
   "source": [
    "# Groupby Gender\n",
    "gender_stat = pd_df.groupby(\"Gender\")\n",
    "\n",
    "# Count players by gender \n",
    "gender_total = gender_stat.nunique()[\"SN\"]\n",
    "\n",
    "# Percent of players\n",
    "pct_player = gender_total / unique_players * 100\n",
    "\n",
    "# Create data frame with obtained values\n",
    "demographics = pd.DataFrame({\"Total Count\": gender_total,\n",
    "                             \"Percentage of Players\": pct_player\n",
    "                             })\n",
    "\n",
    "#Make a pretty table, sort values to match output \n",
    "demographics.sort_values([\"Total Count\"], ascending = False).style.format({\"Percentage of Players\":\"{:.2f}\"})"
   ]
  },
  {
   "cell_type": "markdown",
   "metadata": {},
   "source": [
    "\n",
    "## Purchasing Analysis (Gender)"
   ]
  },
  {
   "cell_type": "markdown",
   "metadata": {},
   "source": [
    "* Run basic calculations to obtain purchase count, avg. purchase price, avg. purchase total per person etc. by gender\n",
    "\n",
    "\n",
    "\n",
    "\n",
    "* Create a summary data frame to hold the results\n",
    "\n",
    "\n",
    "* Optional: give the displayed data cleaner formatting\n",
    "\n",
    "\n",
    "* Display the summary data frame"
   ]
  },
  {
   "cell_type": "code",
   "execution_count": 23,
   "metadata": {},
   "outputs": [
    {
     "data": {
      "text/html": [
       "<style  type=\"text/css\" >\n",
       "</style>  \n",
       "<table id=\"T_86eb1dd4_301c_11e9_a816_acde48001122\" > \n",
       "<thead>    <tr> \n",
       "        <th class=\"blank level0\" ></th> \n",
       "        <th class=\"col_heading level0 col0\" >Purchase Count</th> \n",
       "        <th class=\"col_heading level0 col1\" >Average Purchase Price</th> \n",
       "        <th class=\"col_heading level0 col2\" >Total Purchase Value</th> \n",
       "        <th class=\"col_heading level0 col3\" >Avg Purchase Total per Person</th> \n",
       "    </tr>    <tr> \n",
       "        <th class=\"index_name level0\" >Gender</th> \n",
       "        <th class=\"blank\" ></th> \n",
       "        <th class=\"blank\" ></th> \n",
       "        <th class=\"blank\" ></th> \n",
       "        <th class=\"blank\" ></th> \n",
       "    </tr></thead> \n",
       "<tbody>    <tr> \n",
       "        <th id=\"T_86eb1dd4_301c_11e9_a816_acde48001122level0_row0\" class=\"row_heading level0 row0\" >Female</th> \n",
       "        <td id=\"T_86eb1dd4_301c_11e9_a816_acde48001122row0_col0\" class=\"data row0 col0\" >81</td> \n",
       "        <td id=\"T_86eb1dd4_301c_11e9_a816_acde48001122row0_col1\" class=\"data row0 col1\" >$                3.20</td> \n",
       "        <td id=\"T_86eb1dd4_301c_11e9_a816_acde48001122row0_col2\" class=\"data row0 col2\" >361.94</td> \n",
       "        <td id=\"T_86eb1dd4_301c_11e9_a816_acde48001122row0_col3\" class=\"data row0 col3\" >$4.47</td> \n",
       "    </tr>    <tr> \n",
       "        <th id=\"T_86eb1dd4_301c_11e9_a816_acde48001122level0_row1\" class=\"row_heading level0 row1\" >Male</th> \n",
       "        <td id=\"T_86eb1dd4_301c_11e9_a816_acde48001122row1_col0\" class=\"data row1 col0\" >484</td> \n",
       "        <td id=\"T_86eb1dd4_301c_11e9_a816_acde48001122row1_col1\" class=\"data row1 col1\" >$                3.02</td> \n",
       "        <td id=\"T_86eb1dd4_301c_11e9_a816_acde48001122row1_col2\" class=\"data row1 col2\" >1967.64</td> \n",
       "        <td id=\"T_86eb1dd4_301c_11e9_a816_acde48001122row1_col3\" class=\"data row1 col3\" >$4.07</td> \n",
       "    </tr>    <tr> \n",
       "        <th id=\"T_86eb1dd4_301c_11e9_a816_acde48001122level0_row2\" class=\"row_heading level0 row2\" >Other / Non-Disclosed</th> \n",
       "        <td id=\"T_86eb1dd4_301c_11e9_a816_acde48001122row2_col0\" class=\"data row2 col0\" >11</td> \n",
       "        <td id=\"T_86eb1dd4_301c_11e9_a816_acde48001122row2_col1\" class=\"data row2 col1\" >$                3.35</td> \n",
       "        <td id=\"T_86eb1dd4_301c_11e9_a816_acde48001122row2_col2\" class=\"data row2 col2\" >50.19</td> \n",
       "        <td id=\"T_86eb1dd4_301c_11e9_a816_acde48001122row2_col3\" class=\"data row2 col3\" >$4.56</td> \n",
       "    </tr></tbody> \n",
       "</table> "
      ],
      "text/plain": [
       "<pandas.io.formats.style.Styler at 0x112e8f9e8>"
      ]
     },
     "execution_count": 23,
     "metadata": {},
     "output_type": "execute_result"
    }
   ],
   "source": [
    "# Purchases count by gender \n",
    "count = demographics[\"Total Count\"]\n",
    "\n",
    "# Average purchase price\n",
    "avg_price = gender_stat[\"Price\"].mean()\n",
    "\n",
    "# Total purchase value\n",
    "tpv = gender_stat[\"Price\"].sum()\n",
    "\n",
    "# Average purchase total per person \n",
    "avg_ptp = tpv/count\n",
    "avg_ptp\n",
    "\n",
    "# Create a summary data frame to hold the results\n",
    "gender_demographics = pd.DataFrame({\"Purchase Count\": count, \n",
    "                                    \"Average Purchase Price\": avg_price,\n",
    "                                    \"Total Purchase Value\":tpv,\n",
    "                                    \"Avg Purchase Total per Person\": avg_ptp})\n",
    "# Make a pretty table\n",
    "gender_demographics.style.format({\"Average Purchase Value\": \"${:,.2f}\",\n",
    "                                   \"Average Purchase Price\": \"${:20,.2f}\",\n",
    "                                   \"Avg Purchase Total per Person\": \"${:,.2f}\"})"
   ]
  },
  {
   "cell_type": "markdown",
   "metadata": {},
   "source": [
    "## Age Demographics"
   ]
  },
  {
   "cell_type": "markdown",
   "metadata": {},
   "source": [
    "* Establish bins for ages\n",
    "\n",
    "\n",
    "* Categorize the existing players using the age bins. Hint: use pd.cut()\n",
    "\n",
    "\n",
    "* Calculate the numbers and percentages by age group\n",
    "\n",
    "\n",
    "* Create a summary data frame to hold the results\n",
    "\n",
    "\n",
    "* Optional: round the percentage column to two decimal points\n",
    "\n",
    "\n",
    "* Display Age Demographics Table\n"
   ]
  },
  {
   "cell_type": "code",
   "execution_count": 10,
   "metadata": {},
   "outputs": [
    {
     "data": {
      "text/html": [
       "<style  type=\"text/css\" >\n",
       "</style>  \n",
       "<table id=\"T_9d3a9332_301a_11e9_a816_acde48001122\" > \n",
       "<thead>    <tr> \n",
       "        <th class=\"blank level0\" ></th> \n",
       "        <th class=\"col_heading level0 col0\" >Total Count</th> \n",
       "        <th class=\"col_heading level0 col1\" >Percentage of Players</th> \n",
       "    </tr>    <tr> \n",
       "        <th class=\"index_name level0\" >Age Group</th> \n",
       "        <th class=\"blank\" ></th> \n",
       "        <th class=\"blank\" ></th> \n",
       "    </tr></thead> \n",
       "<tbody>    <tr> \n",
       "        <th id=\"T_9d3a9332_301a_11e9_a816_acde48001122level0_row0\" class=\"row_heading level0 row0\" ><10</th> \n",
       "        <td id=\"T_9d3a9332_301a_11e9_a816_acde48001122row0_col0\" class=\"data row0 col0\" >17</td> \n",
       "        <td id=\"T_9d3a9332_301a_11e9_a816_acde48001122row0_col1\" class=\"data row0 col1\" >2.95</td> \n",
       "    </tr>    <tr> \n",
       "        <th id=\"T_9d3a9332_301a_11e9_a816_acde48001122level0_row1\" class=\"row_heading level0 row1\" >10-14</th> \n",
       "        <td id=\"T_9d3a9332_301a_11e9_a816_acde48001122row1_col0\" class=\"data row1 col0\" >22</td> \n",
       "        <td id=\"T_9d3a9332_301a_11e9_a816_acde48001122row1_col1\" class=\"data row1 col1\" >3.82</td> \n",
       "    </tr>    <tr> \n",
       "        <th id=\"T_9d3a9332_301a_11e9_a816_acde48001122level0_row2\" class=\"row_heading level0 row2\" >15-19</th> \n",
       "        <td id=\"T_9d3a9332_301a_11e9_a816_acde48001122row2_col0\" class=\"data row2 col0\" >107</td> \n",
       "        <td id=\"T_9d3a9332_301a_11e9_a816_acde48001122row2_col1\" class=\"data row2 col1\" >18.58</td> \n",
       "    </tr>    <tr> \n",
       "        <th id=\"T_9d3a9332_301a_11e9_a816_acde48001122level0_row3\" class=\"row_heading level0 row3\" >20-24</th> \n",
       "        <td id=\"T_9d3a9332_301a_11e9_a816_acde48001122row3_col0\" class=\"data row3 col0\" >258</td> \n",
       "        <td id=\"T_9d3a9332_301a_11e9_a816_acde48001122row3_col1\" class=\"data row3 col1\" >44.79</td> \n",
       "    </tr>    <tr> \n",
       "        <th id=\"T_9d3a9332_301a_11e9_a816_acde48001122level0_row4\" class=\"row_heading level0 row4\" >25-29</th> \n",
       "        <td id=\"T_9d3a9332_301a_11e9_a816_acde48001122row4_col0\" class=\"data row4 col0\" >77</td> \n",
       "        <td id=\"T_9d3a9332_301a_11e9_a816_acde48001122row4_col1\" class=\"data row4 col1\" >13.37</td> \n",
       "    </tr>    <tr> \n",
       "        <th id=\"T_9d3a9332_301a_11e9_a816_acde48001122level0_row5\" class=\"row_heading level0 row5\" >30-34</th> \n",
       "        <td id=\"T_9d3a9332_301a_11e9_a816_acde48001122row5_col0\" class=\"data row5 col0\" >52</td> \n",
       "        <td id=\"T_9d3a9332_301a_11e9_a816_acde48001122row5_col1\" class=\"data row5 col1\" >9.03</td> \n",
       "    </tr>    <tr> \n",
       "        <th id=\"T_9d3a9332_301a_11e9_a816_acde48001122level0_row6\" class=\"row_heading level0 row6\" >35-39</th> \n",
       "        <td id=\"T_9d3a9332_301a_11e9_a816_acde48001122row6_col0\" class=\"data row6 col0\" >31</td> \n",
       "        <td id=\"T_9d3a9332_301a_11e9_a816_acde48001122row6_col1\" class=\"data row6 col1\" >5.38</td> \n",
       "    </tr>    <tr> \n",
       "        <th id=\"T_9d3a9332_301a_11e9_a816_acde48001122level0_row7\" class=\"row_heading level0 row7\" >40+</th> \n",
       "        <td id=\"T_9d3a9332_301a_11e9_a816_acde48001122row7_col0\" class=\"data row7 col0\" >12</td> \n",
       "        <td id=\"T_9d3a9332_301a_11e9_a816_acde48001122row7_col1\" class=\"data row7 col1\" >2.08</td> \n",
       "    </tr></tbody> \n",
       "</table> "
      ],
      "text/plain": [
       "<pandas.io.formats.style.Styler at 0x112e5d630>"
      ]
     },
     "execution_count": 10,
     "metadata": {},
     "output_type": "execute_result"
    }
   ],
   "source": [
    "\n",
    "# Establish bins for ages\n",
    "age_bins = [0, 9, 14, 19, 24, 29, 34, 39, 50]\n",
    "group_names = [\"<10\", \"10-14\", \"15-19\", \"20-24\", \"25-29\", \"30-34\", \"35-39\", \"40+\"]\n",
    "\n",
    "# Categorize the existing players using the age bins\n",
    "pd_df[\"Age Group\"] = pd.cut(pd_df[\"Age\"],age_bins, labels=group_names)\n",
    "\n",
    "# Data frame with the added Age Group and group it\n",
    "age_grouped = pd_df.groupby(\"Age Group\")\n",
    "\n",
    "# Total player count by age\n",
    "total_count = age_grouped[\"SN\"].nunique()\n",
    "\n",
    "# Percentages by age group \n",
    "pct_age = (total_count/unique_players) * 100\n",
    "\n",
    "#Create a summary data frame to hold the results\n",
    "age_demographics = pd.DataFrame({\"Total Count\": total_count, \"Percentage of Players\": pct_age})\n",
    "\n",
    "# Make a pretty table\n",
    "age_demographics.style.format({\"Percentage of Players\":\"{:,.2f}\"})\n"
   ]
  },
  {
   "cell_type": "markdown",
   "metadata": {},
   "source": [
    "## Purchasing Analysis (Age)"
   ]
  },
  {
   "cell_type": "markdown",
   "metadata": {},
   "source": [
    "* Bin the purchase_data data frame by age\n",
    "\n",
    "\n",
    "* Run basic calculations to obtain purchase count, avg. purchase price, avg. purchase total per person etc. in the table below\n",
    "\n",
    "\n",
    "* Create a summary data frame to hold the results\n",
    "\n",
    "\n",
    "* Optional: give the displayed data cleaner formatting\n",
    "\n",
    "\n",
    "* Display the summary data frame"
   ]
  },
  {
   "cell_type": "code",
   "execution_count": 16,
   "metadata": {
    "scrolled": true
   },
   "outputs": [
    {
     "data": {
      "text/html": [
       "<style  type=\"text/css\" >\n",
       "</style>  \n",
       "<table id=\"T_4bb50f96_301b_11e9_a816_acde48001122\" > \n",
       "<thead>    <tr> \n",
       "        <th class=\"blank level0\" ></th> \n",
       "        <th class=\"col_heading level0 col0\" >Purchase Count</th> \n",
       "        <th class=\"col_heading level0 col1\" >Average Purchase Price</th> \n",
       "        <th class=\"col_heading level0 col2\" >Total Purchase Value</th> \n",
       "        <th class=\"col_heading level0 col3\" >Average Purchase Total per Person</th> \n",
       "    </tr>    <tr> \n",
       "        <th class=\"index_name level0\" >Age Group</th> \n",
       "        <th class=\"blank\" ></th> \n",
       "        <th class=\"blank\" ></th> \n",
       "        <th class=\"blank\" ></th> \n",
       "        <th class=\"blank\" ></th> \n",
       "    </tr></thead> \n",
       "<tbody>    <tr> \n",
       "        <th id=\"T_4bb50f96_301b_11e9_a816_acde48001122level0_row0\" class=\"row_heading level0 row0\" >40+</th> \n",
       "        <td id=\"T_4bb50f96_301b_11e9_a816_acde48001122row0_col0\" class=\"data row0 col0\" >13</td> \n",
       "        <td id=\"T_4bb50f96_301b_11e9_a816_acde48001122row0_col1\" class=\"data row0 col1\" >$2.94</td> \n",
       "        <td id=\"T_4bb50f96_301b_11e9_a816_acde48001122row0_col2\" class=\"data row0 col2\" >$38.24</td> \n",
       "        <td id=\"T_4bb50f96_301b_11e9_a816_acde48001122row0_col3\" class=\"data row0 col3\" >$2.94</td> \n",
       "    </tr>    <tr> \n",
       "        <th id=\"T_4bb50f96_301b_11e9_a816_acde48001122level0_row1\" class=\"row_heading level0 row1\" >35-39</th> \n",
       "        <td id=\"T_4bb50f96_301b_11e9_a816_acde48001122row1_col0\" class=\"data row1 col0\" >41</td> \n",
       "        <td id=\"T_4bb50f96_301b_11e9_a816_acde48001122row1_col1\" class=\"data row1 col1\" >$3.60</td> \n",
       "        <td id=\"T_4bb50f96_301b_11e9_a816_acde48001122row1_col2\" class=\"data row1 col2\" >$147.67</td> \n",
       "        <td id=\"T_4bb50f96_301b_11e9_a816_acde48001122row1_col3\" class=\"data row1 col3\" >$3.60</td> \n",
       "    </tr>    <tr> \n",
       "        <th id=\"T_4bb50f96_301b_11e9_a816_acde48001122level0_row2\" class=\"row_heading level0 row2\" >30-34</th> \n",
       "        <td id=\"T_4bb50f96_301b_11e9_a816_acde48001122row2_col0\" class=\"data row2 col0\" >73</td> \n",
       "        <td id=\"T_4bb50f96_301b_11e9_a816_acde48001122row2_col1\" class=\"data row2 col1\" >$2.93</td> \n",
       "        <td id=\"T_4bb50f96_301b_11e9_a816_acde48001122row2_col2\" class=\"data row2 col2\" >$214.00</td> \n",
       "        <td id=\"T_4bb50f96_301b_11e9_a816_acde48001122row2_col3\" class=\"data row2 col3\" >$2.93</td> \n",
       "    </tr>    <tr> \n",
       "        <th id=\"T_4bb50f96_301b_11e9_a816_acde48001122level0_row3\" class=\"row_heading level0 row3\" >25-29</th> \n",
       "        <td id=\"T_4bb50f96_301b_11e9_a816_acde48001122row3_col0\" class=\"data row3 col0\" >101</td> \n",
       "        <td id=\"T_4bb50f96_301b_11e9_a816_acde48001122row3_col1\" class=\"data row3 col1\" >$2.90</td> \n",
       "        <td id=\"T_4bb50f96_301b_11e9_a816_acde48001122row3_col2\" class=\"data row3 col2\" >$293.00</td> \n",
       "        <td id=\"T_4bb50f96_301b_11e9_a816_acde48001122row3_col3\" class=\"data row3 col3\" >$2.90</td> \n",
       "    </tr>    <tr> \n",
       "        <th id=\"T_4bb50f96_301b_11e9_a816_acde48001122level0_row4\" class=\"row_heading level0 row4\" >20-24</th> \n",
       "        <td id=\"T_4bb50f96_301b_11e9_a816_acde48001122row4_col0\" class=\"data row4 col0\" >365</td> \n",
       "        <td id=\"T_4bb50f96_301b_11e9_a816_acde48001122row4_col1\" class=\"data row4 col1\" >$3.05</td> \n",
       "        <td id=\"T_4bb50f96_301b_11e9_a816_acde48001122row4_col2\" class=\"data row4 col2\" >$1,114.06</td> \n",
       "        <td id=\"T_4bb50f96_301b_11e9_a816_acde48001122row4_col3\" class=\"data row4 col3\" >$3.05</td> \n",
       "    </tr>    <tr> \n",
       "        <th id=\"T_4bb50f96_301b_11e9_a816_acde48001122level0_row5\" class=\"row_heading level0 row5\" >15-19</th> \n",
       "        <td id=\"T_4bb50f96_301b_11e9_a816_acde48001122row5_col0\" class=\"data row5 col0\" >136</td> \n",
       "        <td id=\"T_4bb50f96_301b_11e9_a816_acde48001122row5_col1\" class=\"data row5 col1\" >$3.04</td> \n",
       "        <td id=\"T_4bb50f96_301b_11e9_a816_acde48001122row5_col2\" class=\"data row5 col2\" >$412.89</td> \n",
       "        <td id=\"T_4bb50f96_301b_11e9_a816_acde48001122row5_col3\" class=\"data row5 col3\" >$3.04</td> \n",
       "    </tr>    <tr> \n",
       "        <th id=\"T_4bb50f96_301b_11e9_a816_acde48001122level0_row6\" class=\"row_heading level0 row6\" >10-14</th> \n",
       "        <td id=\"T_4bb50f96_301b_11e9_a816_acde48001122row6_col0\" class=\"data row6 col0\" >28</td> \n",
       "        <td id=\"T_4bb50f96_301b_11e9_a816_acde48001122row6_col1\" class=\"data row6 col1\" >$2.96</td> \n",
       "        <td id=\"T_4bb50f96_301b_11e9_a816_acde48001122row6_col2\" class=\"data row6 col2\" >$82.78</td> \n",
       "        <td id=\"T_4bb50f96_301b_11e9_a816_acde48001122row6_col3\" class=\"data row6 col3\" >$2.96</td> \n",
       "    </tr>    <tr> \n",
       "        <th id=\"T_4bb50f96_301b_11e9_a816_acde48001122level0_row7\" class=\"row_heading level0 row7\" ><10</th> \n",
       "        <td id=\"T_4bb50f96_301b_11e9_a816_acde48001122row7_col0\" class=\"data row7 col0\" >23</td> \n",
       "        <td id=\"T_4bb50f96_301b_11e9_a816_acde48001122row7_col1\" class=\"data row7 col1\" >$3.35</td> \n",
       "        <td id=\"T_4bb50f96_301b_11e9_a816_acde48001122row7_col2\" class=\"data row7 col2\" >$77.13</td> \n",
       "        <td id=\"T_4bb50f96_301b_11e9_a816_acde48001122row7_col3\" class=\"data row7 col3\" >$3.35</td> \n",
       "    </tr></tbody> \n",
       "</table> "
      ],
      "text/plain": [
       "<pandas.io.formats.style.Styler at 0x112e8fb70>"
      ]
     },
     "execution_count": 16,
     "metadata": {},
     "output_type": "execute_result"
    }
   ],
   "source": [
    "# Establish bins for ages\n",
    "age_bins = [0, 9, 14, 19, 24, 29, 34, 39, 50]\n",
    "group_names = [\"<10\",\"10-14\", \"15-19\", \"20-24\", \"25-29\", \"30-34\", \"35-39\", \"40+\"]\n",
    "\n",
    "# Categorize the existing players using the age bins\n",
    "pd_df[\"Age Group\"] = pd.cut(pd_df[\"Age\"],age_bins, labels=group_names)\n",
    "\n",
    "# Purchase count\n",
    "age_count = age_grouped[\"Purchase ID\"].count()\n",
    "\n",
    "# Average purchase price by age group \n",
    "avg_price = age_grouped[\"Price\"].mean()\n",
    "\n",
    "# Total purchase value by age group \n",
    "value = age_grouped[\"Price\"].sum()\n",
    "\n",
    "# Average total purchase per person \n",
    "avg_ppp_age =value/age_count\n",
    "\n",
    "# Create a summary data frame to hold the results\n",
    "age_demo = pd.DataFrame({\"Purchase Count\": age_count,\n",
    "                                 \"Average Purchase Price\": avg_price,\n",
    "                                 \"Total Purchase Value\":value,\n",
    "\n",
    "                         #Sort the data                                 \"Average Purchase Total per Person\": avg_ppp_age})\n",
    "age_demo = age_demo.sort_index(ascending=False)\n",
    "\n",
    "# Make a pretty table\n",
    "age_demo.style.format({\"Average Purchase Price\":\"${:,.2f}\",\n",
    "                       \"Total Purchase Value\":\"${:,.2f}\",\n",
    "                       \"Average Purchase Total per Person\":\"${:,.2f}\"})\n",
    "\n"
   ]
  },
  {
   "cell_type": "markdown",
   "metadata": {},
   "source": [
    "## Top Spenders"
   ]
  },
  {
   "cell_type": "markdown",
   "metadata": {},
   "source": [
    "* Run basic calculations to obtain the results in the table below\n",
    "\n",
    "\n",
    "* Create a summary data frame to hold the results\n",
    "\n",
    "\n",
    "* Sort the total purchase value column in descending order\n",
    "\n",
    "\n",
    "* Optional: give the displayed data cleaner formatting\n",
    "\n",
    "\n",
    "* Display a preview of the summary data frame\n",
    "\n"
   ]
  },
  {
   "cell_type": "code",
   "execution_count": 10,
   "metadata": {},
   "outputs": [
    {
     "data": {
      "text/html": [
       "<style  type=\"text/css\" >\n",
       "</style>  \n",
       "<table id=\"T_fcbc717a_2ff9_11e9_a4c8_acde48001122\" > \n",
       "<thead>    <tr> \n",
       "        <th class=\"blank level0\" ></th> \n",
       "        <th class=\"col_heading level0 col0\" >Purchase Count</th> \n",
       "        <th class=\"col_heading level0 col1\" >Average Purchase Price</th> \n",
       "        <th class=\"col_heading level0 col2\" >Total Purchase Value</th> \n",
       "    </tr>    <tr> \n",
       "        <th class=\"index_name level0\" >SN</th> \n",
       "        <th class=\"blank\" ></th> \n",
       "        <th class=\"blank\" ></th> \n",
       "        <th class=\"blank\" ></th> \n",
       "    </tr></thead> \n",
       "<tbody>    <tr> \n",
       "        <th id=\"T_fcbc717a_2ff9_11e9_a4c8_acde48001122level0_row0\" class=\"row_heading level0 row0\" >Lisosia93</th> \n",
       "        <td id=\"T_fcbc717a_2ff9_11e9_a4c8_acde48001122row0_col0\" class=\"data row0 col0\" >5</td> \n",
       "        <td id=\"T_fcbc717a_2ff9_11e9_a4c8_acde48001122row0_col1\" class=\"data row0 col1\" >$3.79</td> \n",
       "        <td id=\"T_fcbc717a_2ff9_11e9_a4c8_acde48001122row0_col2\" class=\"data row0 col2\" >$18.96</td> \n",
       "    </tr>    <tr> \n",
       "        <th id=\"T_fcbc717a_2ff9_11e9_a4c8_acde48001122level0_row1\" class=\"row_heading level0 row1\" >Idastidru52</th> \n",
       "        <td id=\"T_fcbc717a_2ff9_11e9_a4c8_acde48001122row1_col0\" class=\"data row1 col0\" >4</td> \n",
       "        <td id=\"T_fcbc717a_2ff9_11e9_a4c8_acde48001122row1_col1\" class=\"data row1 col1\" >$3.86</td> \n",
       "        <td id=\"T_fcbc717a_2ff9_11e9_a4c8_acde48001122row1_col2\" class=\"data row1 col2\" >$15.45</td> \n",
       "    </tr>    <tr> \n",
       "        <th id=\"T_fcbc717a_2ff9_11e9_a4c8_acde48001122level0_row2\" class=\"row_heading level0 row2\" >Chamjask73</th> \n",
       "        <td id=\"T_fcbc717a_2ff9_11e9_a4c8_acde48001122row2_col0\" class=\"data row2 col0\" >3</td> \n",
       "        <td id=\"T_fcbc717a_2ff9_11e9_a4c8_acde48001122row2_col1\" class=\"data row2 col1\" >$4.61</td> \n",
       "        <td id=\"T_fcbc717a_2ff9_11e9_a4c8_acde48001122row2_col2\" class=\"data row2 col2\" >$13.83</td> \n",
       "    </tr>    <tr> \n",
       "        <th id=\"T_fcbc717a_2ff9_11e9_a4c8_acde48001122level0_row3\" class=\"row_heading level0 row3\" >Iral74</th> \n",
       "        <td id=\"T_fcbc717a_2ff9_11e9_a4c8_acde48001122row3_col0\" class=\"data row3 col0\" >4</td> \n",
       "        <td id=\"T_fcbc717a_2ff9_11e9_a4c8_acde48001122row3_col1\" class=\"data row3 col1\" >$3.40</td> \n",
       "        <td id=\"T_fcbc717a_2ff9_11e9_a4c8_acde48001122row3_col2\" class=\"data row3 col2\" >$13.62</td> \n",
       "    </tr>    <tr> \n",
       "        <th id=\"T_fcbc717a_2ff9_11e9_a4c8_acde48001122level0_row4\" class=\"row_heading level0 row4\" >Iskadarya95</th> \n",
       "        <td id=\"T_fcbc717a_2ff9_11e9_a4c8_acde48001122row4_col0\" class=\"data row4 col0\" >3</td> \n",
       "        <td id=\"T_fcbc717a_2ff9_11e9_a4c8_acde48001122row4_col1\" class=\"data row4 col1\" >$4.37</td> \n",
       "        <td id=\"T_fcbc717a_2ff9_11e9_a4c8_acde48001122row4_col2\" class=\"data row4 col2\" >$13.10</td> \n",
       "    </tr></tbody> \n",
       "</table> "
      ],
      "text/plain": [
       "<pandas.io.formats.style.Styler at 0x114a906d8>"
      ]
     },
     "execution_count": 10,
     "metadata": {},
     "output_type": "execute_result"
    }
   ],
   "source": [
    "# Group purchase data by screen names\n",
    "spender_stats = pd_df.groupby(\"SN\")\n",
    "\n",
    "# Count the total purchases by name\n",
    "purchase_count_spender = spender_stats[\"Purchase ID\"].count()\n",
    "\n",
    "# Calculate the average purchase by name \n",
    "avg_purchase_price_spender = spender_stats[\"Price\"].mean()\n",
    "\n",
    "# Calculate purchase total \n",
    "purchase_total_spender = spender_stats[\"Price\"].sum()\n",
    "\n",
    "# Create a summary data frame to hold the results\n",
    "top_spenders = pd.DataFrame({\"Purchase Count\": purchase_count_spender,\n",
    "                             \"Average Purchase Price\": avg_purchase_price_spender,\n",
    "                             \"Total Purchase Value\":purchase_total_spender})\n",
    "\n",
    "# Sort the total purchase value column in descending order\n",
    "spenders = top_spenders.sort_values([\"Total Purchase Value\"], ascending=False).head()\n",
    "\n",
    "# Make a pretty table\n",
    "\n",
    "spenders.style.format({\"Average Purchase Total\": \"${:,.2f}\",\n",
    "                       \"Average Purchase Price\":\"${:,.2f}\", \n",
    "                       \"Total Purchase Value\":\"${:,.2f}\"})"
   ]
  },
  {
   "cell_type": "markdown",
   "metadata": {},
   "source": [
    "## Most Popular Items"
   ]
  },
  {
   "cell_type": "markdown",
   "metadata": {},
   "source": [
    "* Retrieve the Item ID, Item Name, and Item Price columns\n",
    "\n",
    "\n",
    "* Group by Item ID and Item Name. Perform calculations to obtain purchase count, item price, and total purchase value\n",
    "\n",
    "\n",
    "* Create a summary data frame to hold the results\n",
    "\n",
    "\n",
    "* Sort the purchase count column in descending order\n",
    "\n",
    "\n",
    "* Optional: give the displayed data cleaner formatting\n",
    "\n",
    "\n",
    "* Display a preview of the summary data frame\n",
    "\n"
   ]
  },
  {
   "cell_type": "code",
   "execution_count": 11,
   "metadata": {},
   "outputs": [
    {
     "data": {
      "text/html": [
       "<style  type=\"text/css\" >\n",
       "</style>  \n",
       "<table id=\"T_fcbf4300_2ff9_11e9_a4c8_acde48001122\" > \n",
       "<thead>    <tr> \n",
       "        <th class=\"blank\" ></th> \n",
       "        <th class=\"blank level0\" ></th> \n",
       "        <th class=\"col_heading level0 col0\" >Purchase Count</th> \n",
       "        <th class=\"col_heading level0 col1\" >Item Price</th> \n",
       "        <th class=\"col_heading level0 col2\" >Total Purchase Value</th> \n",
       "    </tr>    <tr> \n",
       "        <th class=\"index_name level0\" >Item ID</th> \n",
       "        <th class=\"index_name level1\" >Item Name</th> \n",
       "        <th class=\"blank\" ></th> \n",
       "        <th class=\"blank\" ></th> \n",
       "        <th class=\"blank\" ></th> \n",
       "    </tr></thead> \n",
       "<tbody>    <tr> \n",
       "        <th id=\"T_fcbf4300_2ff9_11e9_a4c8_acde48001122level0_row0\" class=\"row_heading level0 row0\" >178</th> \n",
       "        <th id=\"T_fcbf4300_2ff9_11e9_a4c8_acde48001122level1_row0\" class=\"row_heading level1 row0\" >Oathbreaker, Last Hope of the Breaking Storm</th> \n",
       "        <td id=\"T_fcbf4300_2ff9_11e9_a4c8_acde48001122row0_col0\" class=\"data row0 col0\" >12</td> \n",
       "        <td id=\"T_fcbf4300_2ff9_11e9_a4c8_acde48001122row0_col1\" class=\"data row0 col1\" >$4.23</td> \n",
       "        <td id=\"T_fcbf4300_2ff9_11e9_a4c8_acde48001122row0_col2\" class=\"data row0 col2\" >$50.76</td> \n",
       "    </tr>    <tr> \n",
       "        <th id=\"T_fcbf4300_2ff9_11e9_a4c8_acde48001122level0_row1\" class=\"row_heading level0 row1\" >145</th> \n",
       "        <th id=\"T_fcbf4300_2ff9_11e9_a4c8_acde48001122level1_row1\" class=\"row_heading level1 row1\" >Fiery Glass Crusader</th> \n",
       "        <td id=\"T_fcbf4300_2ff9_11e9_a4c8_acde48001122row1_col0\" class=\"data row1 col0\" >9</td> \n",
       "        <td id=\"T_fcbf4300_2ff9_11e9_a4c8_acde48001122row1_col1\" class=\"data row1 col1\" >$4.58</td> \n",
       "        <td id=\"T_fcbf4300_2ff9_11e9_a4c8_acde48001122row1_col2\" class=\"data row1 col2\" >$41.22</td> \n",
       "    </tr>    <tr> \n",
       "        <th id=\"T_fcbf4300_2ff9_11e9_a4c8_acde48001122level0_row2\" class=\"row_heading level0 row2\" >108</th> \n",
       "        <th id=\"T_fcbf4300_2ff9_11e9_a4c8_acde48001122level1_row2\" class=\"row_heading level1 row2\" >Extraction, Quickblade Of Trembling Hands</th> \n",
       "        <td id=\"T_fcbf4300_2ff9_11e9_a4c8_acde48001122row2_col0\" class=\"data row2 col0\" >9</td> \n",
       "        <td id=\"T_fcbf4300_2ff9_11e9_a4c8_acde48001122row2_col1\" class=\"data row2 col1\" >$3.53</td> \n",
       "        <td id=\"T_fcbf4300_2ff9_11e9_a4c8_acde48001122row2_col2\" class=\"data row2 col2\" >$31.77</td> \n",
       "    </tr>    <tr> \n",
       "        <th id=\"T_fcbf4300_2ff9_11e9_a4c8_acde48001122level0_row3\" class=\"row_heading level0 row3\" >82</th> \n",
       "        <th id=\"T_fcbf4300_2ff9_11e9_a4c8_acde48001122level1_row3\" class=\"row_heading level1 row3\" >Nirvana</th> \n",
       "        <td id=\"T_fcbf4300_2ff9_11e9_a4c8_acde48001122row3_col0\" class=\"data row3 col0\" >9</td> \n",
       "        <td id=\"T_fcbf4300_2ff9_11e9_a4c8_acde48001122row3_col1\" class=\"data row3 col1\" >$4.90</td> \n",
       "        <td id=\"T_fcbf4300_2ff9_11e9_a4c8_acde48001122row3_col2\" class=\"data row3 col2\" >$44.10</td> \n",
       "    </tr>    <tr> \n",
       "        <th id=\"T_fcbf4300_2ff9_11e9_a4c8_acde48001122level0_row4\" class=\"row_heading level0 row4\" >19</th> \n",
       "        <th id=\"T_fcbf4300_2ff9_11e9_a4c8_acde48001122level1_row4\" class=\"row_heading level1 row4\" >Pursuit, Cudgel of Necromancy</th> \n",
       "        <td id=\"T_fcbf4300_2ff9_11e9_a4c8_acde48001122row4_col0\" class=\"data row4 col0\" >8</td> \n",
       "        <td id=\"T_fcbf4300_2ff9_11e9_a4c8_acde48001122row4_col1\" class=\"data row4 col1\" >$1.02</td> \n",
       "        <td id=\"T_fcbf4300_2ff9_11e9_a4c8_acde48001122row4_col2\" class=\"data row4 col2\" >$8.16</td> \n",
       "    </tr></tbody> \n",
       "</table> "
      ],
      "text/plain": [
       "<pandas.io.formats.style.Styler at 0x114aa5668>"
      ]
     },
     "execution_count": 11,
     "metadata": {},
     "output_type": "execute_result"
    }
   ],
   "source": [
    "# Retrieve the Item ID, Item Name, and Item Price columns\n",
    "items = pd_df[[\"Item ID\", \"Item Name\", \"Price\"]]\n",
    "\n",
    "# Group by Item ID and Item Name\n",
    "item_stats = items.groupby([\"Item ID\",\"Item Name\"])\n",
    "\n",
    "# Number of times an item has been purchased \n",
    "purchase_count_item = item_stats[\"Price\"].count()\n",
    "\n",
    "# Purchase value per item \n",
    "purchase_value = (item_stats[\"Price\"].sum()) \n",
    "\n",
    "# Item price\n",
    "item_price = purchase_value/purchase_count_item\n",
    "\n",
    "# Create data frame with obtained values\n",
    "pop_items = pd.DataFrame({\"Purchase Count\": purchase_count_item, \n",
    "                                   \"Item Price\": item_price,\n",
    "                                   \"Total Purchase Value\":purchase_value})\n",
    "\n",
    "# Sort the purchase count column in descending order\n",
    "pop_formatted = pop_items.sort_values([\"Purchase Count\"], ascending=False).head()\n",
    "\n",
    "# Make a pretty table\n",
    "pop_formatted.style.format({\"Item Price\":\"${:,.2f}\" , \"Total Purchase Value\":\"${:,.2f}\"})"
   ]
  },
  {
   "cell_type": "markdown",
   "metadata": {},
   "source": [
    "## Most Profitable Items"
   ]
  },
  {
   "cell_type": "markdown",
   "metadata": {},
   "source": [
    "* Sort the above table by total purchase value in descending order\n",
    "\n",
    "\n",
    "* Optional: give the displayed data cleaner formatting\n",
    "\n",
    "\n",
    "* Display a preview of the data frame\n",
    "\n"
   ]
  },
  {
   "cell_type": "code",
   "execution_count": 12,
   "metadata": {
    "scrolled": true
   },
   "outputs": [
    {
     "data": {
      "text/html": [
       "<style  type=\"text/css\" >\n",
       "</style>  \n",
       "<table id=\"T_fcc0bb40_2ff9_11e9_a4c8_acde48001122\" > \n",
       "<thead>    <tr> \n",
       "        <th class=\"blank\" ></th> \n",
       "        <th class=\"blank level0\" ></th> \n",
       "        <th class=\"col_heading level0 col0\" >Purchase Count</th> \n",
       "        <th class=\"col_heading level0 col1\" >Item Price</th> \n",
       "        <th class=\"col_heading level0 col2\" >Total Purchase Value</th> \n",
       "    </tr>    <tr> \n",
       "        <th class=\"index_name level0\" >Item ID</th> \n",
       "        <th class=\"index_name level1\" >Item Name</th> \n",
       "        <th class=\"blank\" ></th> \n",
       "        <th class=\"blank\" ></th> \n",
       "        <th class=\"blank\" ></th> \n",
       "    </tr></thead> \n",
       "<tbody>    <tr> \n",
       "        <th id=\"T_fcc0bb40_2ff9_11e9_a4c8_acde48001122level0_row0\" class=\"row_heading level0 row0\" >178</th> \n",
       "        <th id=\"T_fcc0bb40_2ff9_11e9_a4c8_acde48001122level1_row0\" class=\"row_heading level1 row0\" >Oathbreaker, Last Hope of the Breaking Storm</th> \n",
       "        <td id=\"T_fcc0bb40_2ff9_11e9_a4c8_acde48001122row0_col0\" class=\"data row0 col0\" >12</td> \n",
       "        <td id=\"T_fcc0bb40_2ff9_11e9_a4c8_acde48001122row0_col1\" class=\"data row0 col1\" >$4.23</td> \n",
       "        <td id=\"T_fcc0bb40_2ff9_11e9_a4c8_acde48001122row0_col2\" class=\"data row0 col2\" >$50.76</td> \n",
       "    </tr>    <tr> \n",
       "        <th id=\"T_fcc0bb40_2ff9_11e9_a4c8_acde48001122level0_row1\" class=\"row_heading level0 row1\" >82</th> \n",
       "        <th id=\"T_fcc0bb40_2ff9_11e9_a4c8_acde48001122level1_row1\" class=\"row_heading level1 row1\" >Nirvana</th> \n",
       "        <td id=\"T_fcc0bb40_2ff9_11e9_a4c8_acde48001122row1_col0\" class=\"data row1 col0\" >9</td> \n",
       "        <td id=\"T_fcc0bb40_2ff9_11e9_a4c8_acde48001122row1_col1\" class=\"data row1 col1\" >$4.90</td> \n",
       "        <td id=\"T_fcc0bb40_2ff9_11e9_a4c8_acde48001122row1_col2\" class=\"data row1 col2\" >$44.10</td> \n",
       "    </tr>    <tr> \n",
       "        <th id=\"T_fcc0bb40_2ff9_11e9_a4c8_acde48001122level0_row2\" class=\"row_heading level0 row2\" >145</th> \n",
       "        <th id=\"T_fcc0bb40_2ff9_11e9_a4c8_acde48001122level1_row2\" class=\"row_heading level1 row2\" >Fiery Glass Crusader</th> \n",
       "        <td id=\"T_fcc0bb40_2ff9_11e9_a4c8_acde48001122row2_col0\" class=\"data row2 col0\" >9</td> \n",
       "        <td id=\"T_fcc0bb40_2ff9_11e9_a4c8_acde48001122row2_col1\" class=\"data row2 col1\" >$4.58</td> \n",
       "        <td id=\"T_fcc0bb40_2ff9_11e9_a4c8_acde48001122row2_col2\" class=\"data row2 col2\" >$41.22</td> \n",
       "    </tr>    <tr> \n",
       "        <th id=\"T_fcc0bb40_2ff9_11e9_a4c8_acde48001122level0_row3\" class=\"row_heading level0 row3\" >92</th> \n",
       "        <th id=\"T_fcc0bb40_2ff9_11e9_a4c8_acde48001122level1_row3\" class=\"row_heading level1 row3\" >Final Critic</th> \n",
       "        <td id=\"T_fcc0bb40_2ff9_11e9_a4c8_acde48001122row3_col0\" class=\"data row3 col0\" >8</td> \n",
       "        <td id=\"T_fcc0bb40_2ff9_11e9_a4c8_acde48001122row3_col1\" class=\"data row3 col1\" >$4.88</td> \n",
       "        <td id=\"T_fcc0bb40_2ff9_11e9_a4c8_acde48001122row3_col2\" class=\"data row3 col2\" >$39.04</td> \n",
       "    </tr>    <tr> \n",
       "        <th id=\"T_fcc0bb40_2ff9_11e9_a4c8_acde48001122level0_row4\" class=\"row_heading level0 row4\" >103</th> \n",
       "        <th id=\"T_fcc0bb40_2ff9_11e9_a4c8_acde48001122level1_row4\" class=\"row_heading level1 row4\" >Singed Scalpel</th> \n",
       "        <td id=\"T_fcc0bb40_2ff9_11e9_a4c8_acde48001122row4_col0\" class=\"data row4 col0\" >8</td> \n",
       "        <td id=\"T_fcc0bb40_2ff9_11e9_a4c8_acde48001122row4_col1\" class=\"data row4 col1\" >$4.35</td> \n",
       "        <td id=\"T_fcc0bb40_2ff9_11e9_a4c8_acde48001122row4_col2\" class=\"data row4 col2\" >$34.80</td> \n",
       "    </tr></tbody> \n",
       "</table> "
      ],
      "text/plain": [
       "<pandas.io.formats.style.Styler at 0x1149ce550>"
      ]
     },
     "execution_count": 12,
     "metadata": {},
     "output_type": "execute_result"
    }
   ],
   "source": [
    "# Sort the above table by total purchase value in descending order\n",
    "pop_formatted = pop_items.sort_values([\"Total Purchase Value\"], ascending=False).head()\n",
    "# Make a pretty table\n",
    "pop_formatted.style.format({\"Item Price\":\"${:,.2f}\" , \"Total Purchase Value\":\"${:,.2f}\"})"
   ]
  },
  {
   "cell_type": "code",
   "execution_count": null,
   "metadata": {},
   "outputs": [],
   "source": []
  }
 ],
 "metadata": {
  "anaconda-cloud": {},
  "kernel_info": {
   "name": "python3"
  },
  "kernelspec": {
   "display_name": "Python 3",
   "language": "python",
   "name": "python3"
  },
  "language_info": {
   "codemirror_mode": {
    "name": "ipython",
    "version": 3
   },
   "file_extension": ".py",
   "mimetype": "text/x-python",
   "name": "python",
   "nbconvert_exporter": "python",
   "pygments_lexer": "ipython3",
   "version": "3.7.0"
  },
  "nteract": {
   "version": "0.2.0"
  }
 },
 "nbformat": 4,
 "nbformat_minor": 2
}
